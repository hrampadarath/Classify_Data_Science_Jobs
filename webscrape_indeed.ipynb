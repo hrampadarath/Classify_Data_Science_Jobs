{
 "cells": [
  {
   "cell_type": "markdown",
   "metadata": {},
   "source": [
    "## Web Scraping Indeed and classifying Data Science Jobs\n",
    "\n",
    "\n",
    "In this project, I will be looking into building a job classifier. This project has 4 main parts:\n",
    "\n",
    "1. web scraping the Indded website for data science job postings\n",
    "2. bulid a classifier to classify the differnt data science types/levels\n",
    "3. classify a real data scientist based upon skills, experience etc\n",
    "4. provide a list of skills required for a data scientist to move one level up\n",
    "\n",
    "\n",
    "The first part (web scraping) is based on the tutroail at https://github.com/aakashtandel/Web-Scraping-Indeed/blob/master/Code/Project%203%20-%20Web%20Scraping%20Indeed%20Job%20Listings%20Jupyter%20Notebook.ipynb"
   ]
  },
  {
   "cell_type": "markdown",
   "metadata": {},
   "source": [
    "### 1. Scraping job listings from https://www.indeed.co.uk/\n",
    "\n",
    "We will be scraping listings from indeed.co.uk using BeautifulSoup."
   ]
  },
  {
   "cell_type": "code",
   "execution_count": 15,
   "metadata": {},
   "outputs": [],
   "source": [
    "url = \"https://www.indeed.co.uk/jobs?q=data%20scientist&l=Bristol&start=10\""
   ]
  },
  {
   "cell_type": "code",
   "execution_count": 16,
   "metadata": {},
   "outputs": [],
   "source": [
    "import urllib\n",
    "import requests\n",
    "import bs4\n",
    "from bs4 import BeautifulSoup\n",
    "import pandas as pd\n",
    "import re\n",
    "import numpy as np"
   ]
  },
  {
   "cell_type": "code",
   "execution_count": 17,
   "metadata": {},
   "outputs": [],
   "source": [
    "html = requests.get(url)\n",
    "soup = BeautifulSoup(html.content, 'html.parser', from_encoding=\"utf-8\")"
   ]
  },
  {
   "cell_type": "code",
   "execution_count": 18,
   "metadata": {},
   "outputs": [
    {
     "data": {
      "text/plain": [
       "10"
      ]
     },
     "execution_count": 18,
     "metadata": {},
     "output_type": "execute_result"
    }
   ],
   "source": [
    "results_ = soup.find_all(class_= \"result\")\n",
    "len(results_)"
   ]
  },
  {
   "cell_type": "markdown",
   "metadata": {},
   "source": [
    "View a single result"
   ]
  },
  {
   "cell_type": "code",
   "execution_count": 19,
   "metadata": {},
   "outputs": [
    {
     "data": {
      "text/plain": [
       "<div class=\"jobsearch-SerpJobCard unifiedRow row result\" data-jk=\"fbffdf3b8f6b438c\" data-tn-component=\"organicJob\" id=\"p_fbffdf3b8f6b438c\">\n",
       "<h2 class=\"title\">\n",
       "<a class=\"jobtitle turnstileLink\" data-tn-element=\"jobTitle\" href=\"/rc/clk?jk=fbffdf3b8f6b438c&amp;fccid=b6893c92ad39abbc&amp;vjs=3\" id=\"jl_fbffdf3b8f6b438c\" onclick=\"setRefineByCookie([]); return rclk(this,jobmap[4],true,0);\" onmousedown=\"return rclk(this,jobmap[4],0);\" rel=\"noopener nofollow\" target=\"_blank\" title=\"Machine Learning Engineer\">\n",
       "Machine Learning Engineer</a>\n",
       "</h2>\n",
       "<div class=\"sjcl\">\n",
       "<div>\n",
       "<span class=\"company\">\n",
       "Ultraleap Ltd.</span>\n",
       "</div>\n",
       "<div class=\"recJobLoc\" data-rc-loc=\"Bristol\" id=\"recJobLoc_fbffdf3b8f6b438c\" style=\"display: none\"></div>\n",
       "<span class=\"location accessible-contrast-color-location\">Bristol</span>\n",
       "</div>\n",
       "<table class=\"jobCardShelfContainer\"><tr class=\"jobCardShelf\"><td class=\"jobCardShelfItem indeedApply\"><span class=\"jobCardShelfIcon\"><svg fill=\"none\" height=\"16\" viewbox=\"0 0 20 20\" width=\"16\"><rect fill=\"#FF5A1F\" height=\"20\" rx=\"10\" width=\"20\"></rect><path clip-rule=\"evenodd\" d=\"M15.3125 4.0625L10.8125 15.3125L7.99999 11.375L15.3125 4.0625ZM7.604 12.7576L6.875 15.3125L8.567 14.1054L7.604 12.7576ZM7.20463 10.5796L12.419 5.36525L4.0625 9.125L6.9875 10.7968L7.20463 10.5796Z\" fill=\"white\" fill-rule=\"evenodd\"></path></svg></span><span class=\"iaLabel iaIconActive\">Easily apply to this job</span></td></tr></table><div class=\"summary\">\n",
       "<ul style=\"list-style-type:circle;margin-top: 0px;margin-bottom: 0px;padding-left:20px;\">\n",
       "<li>Research, code and deliver alongside our product and engineering team to test and release new hand-tracking features to our users worldwide;</li>\n",
       "</ul></div>\n",
       "<div class=\"jobsearch-SerpJobCard-footer\">\n",
       "<div class=\"jobsearch-SerpJobCard-footerActions\">\n",
       "<div class=\"result-link-bar-container\">\n",
       "<div class=\"result-link-bar\"><span class=\"date\">30+ days ago</span><span class=\"tt_set\" id=\"tt_set_4\"><div class=\"job-reaction\"><span aria-expanded=\"false\" aria-haspopup=\"true\" aria-label=\"save or dislike\" class=\"job-reaction-kebab\" data-ol-has-click-handler=\"\" onclick=\"toggleKebabMenu('fbffdf3b8f6b438c', false, event); return false;\" role=\"button\" tabindex=\"0\"></span><span class=\"job-reaction-kebab-menu\"><a class=\"job-reaction-kebab-item\" data-ol-has-click-handler=\"\" href=\"#\" onclick=\"changeJobState('fbffdf3b8f6b438c', 'save', 'linkbar', false, '');return false;\"><svg focusable=\"false\" height=\"16\" viewbox=\"0 0 24 24\" width=\"16\"><g><path d=\"M16.5,3A6,6,0,0,0,12,5.09,6,6,0,0,0,7.5,3,5.45,5.45,0,0,0,2,8.5C2,12.28,5.4,15.36,10.55,20L12,21.35,13.45,20C18.6,15.36,22,12.28,22,8.5A5.45,5.45,0,0,0,16.5,3ZM12.1,18.55l-0.1.1-0.1-.1C7.14,14.24,4,11.39,4,8.5A3.42,3.42,0,0,1,7.5,5a3.91,3.91,0,0,1,3.57,2.36h1.87A3.88,3.88,0,0,1,16.5,5,3.42,3.42,0,0,1,20,8.5C20,11.39,16.86,14.24,12.1,18.55Z\" fill=\"#2d2d2d\"></path></g></svg><span class=\"job-reaction-kebab-item-text\">Save job</span></a><a class=\"job-reaction-kebab-item\" data-ol-has-click-handler=\"\" href=\"#\" onclick=\"dislikeJob(false, false, 'fbffdf3b8f6b438c', 'unsave', 'linkbar', false, ''); return false;\"><span class=\"job-reaction-dislike-icon\"></span><span class=\"job-reaction-kebab-item-text\">Not interested</span></a></span></div><span class=\"result-link-bar-separator\">·</span><a class=\"sl resultLink save-job-link\" href=\"#\" id=\"sj_fbffdf3b8f6b438c\" onclick=\"changeJobState('fbffdf3b8f6b438c', 'save', 'linkbar', false, ''); return false;\" title=\"Save this job to my.indeed\">Save job</a><span class=\"result-link-bar-separator\">·</span><a class=\"sl resultLink more-link\" href=\"#\" id=\"tog_4\" onclick=\"toggleMoreLinks('fbffdf3b8f6b438c'); return false;\">More...</a></span><div class=\"edit_note_content\" id=\"editsaved2_fbffdf3b8f6b438c\" style=\"display:none;\"></div><script>if (!window['result_fbffdf3b8f6b438c']) {window['result_fbffdf3b8f6b438c'] = {};}window['result_fbffdf3b8f6b438c']['showSource'] = false; window['result_fbffdf3b8f6b438c']['source'] = \"Ultraleap Ltd.\"; window['result_fbffdf3b8f6b438c']['loggedIn'] = false; window['result_fbffdf3b8f6b438c']['showMyJobsLinks'] = false;window['result_fbffdf3b8f6b438c']['undoAction'] = \"unsave\";window['result_fbffdf3b8f6b438c']['relativeJobAge'] = \"30+ days ago\";window['result_fbffdf3b8f6b438c']['jobKey'] = \"fbffdf3b8f6b438c\"; window['result_fbffdf3b8f6b438c']['myIndeedAvailable'] = true; window['result_fbffdf3b8f6b438c']['showMoreActionsLink'] = window['result_fbffdf3b8f6b438c']['showMoreActionsLink'] || true; window['result_fbffdf3b8f6b438c']['resultNumber'] = 4; window['result_fbffdf3b8f6b438c']['jobStateChangedToSaved'] = false; window['result_fbffdf3b8f6b438c']['searchState'] = \"q=data scientist&amp;l=Bristol&amp;start=10\"; window['result_fbffdf3b8f6b438c']['basicPermaLink'] = \"https://www.indeed.co.uk\"; window['result_fbffdf3b8f6b438c']['saveJobFailed'] = false; window['result_fbffdf3b8f6b438c']['removeJobFailed'] = false; window['result_fbffdf3b8f6b438c']['requestPending'] = false; window['result_fbffdf3b8f6b438c']['notesEnabled'] = true; window['result_fbffdf3b8f6b438c']['currentPage'] = \"serp\"; window['result_fbffdf3b8f6b438c']['sponsored'] = false;window['result_fbffdf3b8f6b438c']['reportJobButtonEnabled'] = false; window['result_fbffdf3b8f6b438c']['showMyJobsHired'] = false; window['result_fbffdf3b8f6b438c']['showSaveForSponsored'] = false; window['result_fbffdf3b8f6b438c']['showJobAge'] = true; window['result_fbffdf3b8f6b438c']['showHolisticCard'] = true; window['result_fbffdf3b8f6b438c']['showDislike'] = true; window['result_fbffdf3b8f6b438c']['showKebab'] = true;</script></div></div>\n",
       "</div>\n",
       "</div>\n",
       "<div class=\"tab-container\">\n",
       "<div class=\"more-links-container result-tab\" id=\"tt_display_4\" style=\"display:none;\"><a class=\"close-link closeLink\" href=\"#\" onclick=\"toggleMoreLinks('fbffdf3b8f6b438c'); return false;\" title=\"Close\"></a><div class=\"more_actions\" id=\"more_4\"><ul><li><span class=\"mat\">View all <a href=\"/Ultraleap-Ltd.-jobs\">Ultraleap Ltd. jobs</a> - <a href=\"/jobs-in-Bristol\">Bristol jobs</a></span></li><li><span class=\"mat\">Salary Search: <a href=\"/salaries/machine-learning-engineer-Salaries,-Bristol-ENG\" onmousedown=\"this.href = appendParamsOnce(this.href, '?campaignid=serp-more&amp;fromjk=fbffdf3b8f6b438c&amp;from=serp-more');\">Machine Learning Engineer salaries in Bristol</a></span></li></ul></div></div><div class=\"dya-container result-tab\"></div>\n",
       "<div class=\"tellafriend-container result-tab email_job_content\"></div>\n",
       "<div class=\"sign-in-container result-tab\"></div>\n",
       "<div class=\"notes-container result-tab\"></div>\n",
       "</div>\n",
       "</div>"
      ]
     },
     "execution_count": 19,
     "metadata": {},
     "output_type": "execute_result"
    }
   ],
   "source": [
    "results_[4]"
   ]
  },
  {
   "cell_type": "markdown",
   "metadata": {},
   "source": [
    "For our classifier we need: \n",
    "1. the job title: which is an attribute in the jobtitle class\n",
    "2. the description: which can be accessed through the href link in the jobtitle class\n",
    "\n",
    "Other information that may be important, but not necessarily are;\n",
    "1. the location\n",
    "2. company name\n",
    "3. salary\n",
    "\n",
    "let's find all 5 in our example"
   ]
  },
  {
   "cell_type": "code",
   "execution_count": 20,
   "metadata": {},
   "outputs": [
    {
     "data": {
      "text/plain": [
       "<a class=\"jobtitle turnstileLink\" data-tn-element=\"jobTitle\" href=\"/rc/clk?jk=fbffdf3b8f6b438c&amp;fccid=b6893c92ad39abbc&amp;vjs=3\" id=\"jl_fbffdf3b8f6b438c\" onclick=\"setRefineByCookie([]); return rclk(this,jobmap[4],true,0);\" onmousedown=\"return rclk(this,jobmap[4],0);\" rel=\"noopener nofollow\" target=\"_blank\" title=\"Machine Learning Engineer\">\n",
       "Machine Learning Engineer</a>"
      ]
     },
     "execution_count": 20,
     "metadata": {},
     "output_type": "execute_result"
    }
   ],
   "source": [
    "ti_ = results_[4].find(class_='jobtitle')\n",
    "ti_"
   ]
  },
  {
   "cell_type": "code",
   "execution_count": 21,
   "metadata": {},
   "outputs": [
    {
     "data": {
      "text/plain": [
       "{'target': '_blank',\n",
       " 'id': 'jl_fbffdf3b8f6b438c',\n",
       " 'href': '/rc/clk?jk=fbffdf3b8f6b438c&fccid=b6893c92ad39abbc&vjs=3',\n",
       " 'onmousedown': 'return rclk(this,jobmap[4],0);',\n",
       " 'onclick': 'setRefineByCookie([]); return rclk(this,jobmap[4],true,0);',\n",
       " 'rel': ['noopener', 'nofollow'],\n",
       " 'title': 'Machine Learning Engineer',\n",
       " 'class': ['jobtitle', 'turnstileLink'],\n",
       " 'data-tn-element': 'jobTitle'}"
      ]
     },
     "execution_count": 21,
     "metadata": {},
     "output_type": "execute_result"
    }
   ],
   "source": [
    "ti_.attrs"
   ]
  },
  {
   "cell_type": "code",
   "execution_count": 22,
   "metadata": {},
   "outputs": [
    {
     "data": {
      "text/plain": [
       "'Machine Learning Engineer'"
      ]
     },
     "execution_count": 22,
     "metadata": {},
     "output_type": "execute_result"
    }
   ],
   "source": [
    "#get the title\n",
    "ti_.attrs[\"title\"]\n"
   ]
  },
  {
   "cell_type": "code",
   "execution_count": 23,
   "metadata": {},
   "outputs": [
    {
     "data": {
      "text/plain": [
       "'We are looking for an experienced and motivated top-level Machine Learning Engineer for our spatial tracking team in the UK which is focused on developing new ways for humans and machines to interact.\\n\\nResponsibilities\\n\\nResearch, code and deliver alongside our product and engineering team to test and release new hand-tracking features to our users worldwide;\\nApply mathematical techniques (geometry, linear algebra, numerical methods), machine learning and artificial intelligence techniques to improve spatial tracking;\\nOptimise models to satisfy performance criteria, including mapping to software on various platforms;\\nParticipate in high quality processes including reviews, test, verification, and process improvement.\\n\\nExperience and Skill-Set\\n\\nAn MSc or PhD in a quantitative field of STEM, Computer Science or Engineering with a focus on Machine Learning or industry experience in Machine Learning related work;\\nStrong experience in applied mathematics, algorithm design and performance optimisation;\\nExcellent coding and software development skills including Python and Tensorflow /Keras;\\nExperience with any physics simulator, video game physics or computer graphics is a plus;\\nMotivated, energetic and ready to own challenges.\\n\\nGeneral Information\\n\\nYou must be authorised to work in the UK\\nThis position reports into the Tracking Team Lead;\\nThis position is based in Bristol, UK;\\nOccasional international travel may be required;'"
      ]
     },
     "execution_count": 23,
     "metadata": {},
     "output_type": "execute_result"
    }
   ],
   "source": [
    "#get the description\n",
    "#to get teh descrition we will need to extract the data from the url\n",
    "# it exists in class=\"jobsearch-jobDescriptionText\"\n",
    "\n",
    "URL_ = \"https://www.indeed.co.uk\"+ti_.attrs[\"href\"]\n",
    "html_ = requests.get(URL_)\n",
    "soup_ = BeautifulSoup(html_.content, 'html.parser', from_encoding=\"utf-8\")\n",
    "soup_.find(class_= \"jobsearch-jobDescriptionText\").text.strip()"
   ]
  },
  {
   "cell_type": "markdown",
   "metadata": {},
   "source": [
    "Now merge with the parse function from https://github.com/aakashtandel/Web-Scraping-Indeed/blob/master/Code/Project%203%20-%20Web%20Scraping%20Indeed%20Job%20Listings%20Jupyter%20Notebook.ipynb "
   ]
  },
  {
   "cell_type": "code",
   "execution_count": 24,
   "metadata": {},
   "outputs": [],
   "source": [
    "def parse(url):\n",
    "    html = requests.get(url)\n",
    "    soup = BeautifulSoup(html.content, 'html.parser', from_encoding=\"utf-8\")\n",
    "    df = pd.DataFrame(columns=[\"Title\",\"Location\",\"Company\",\"Salary\", \"Description\"])\n",
    "    for each in soup.find_all(class_= \"result\" ):\n",
    "        try: \n",
    "            title = each.find(class_='jobtitle').text.replace('\\n', '')\n",
    "        except:\n",
    "            title = 'None'\n",
    "        try:\n",
    "            location = each.find('span', {'class':\"location\" }).text.replace('\\n', '')\n",
    "        except:\n",
    "            location = 'None'\n",
    "        try: \n",
    "            company = each.find(class_='company').text.replace('\\n', '')\n",
    "        except:\n",
    "            company = 'None'\n",
    "        try:\n",
    "            salary = each.find('span', {'class':'no-wrap'}).text\n",
    "        except:\n",
    "            salary = 'None'\n",
    "        \n",
    "        url_ = \"https://www.indeed.co.uk\" + each.find(class_='jobtitle').attrs[\"href\"]\n",
    "        html_ = requests.get(url_)\n",
    "        soup_ = BeautifulSoup(html_.content, 'html.parser', from_encoding=\"utf-8\")\n",
    "        description = soup_.find(class_= \"jobsearch-jobDescriptionText\").text.strip()\n",
    "        \n",
    "        df = df.append({'Title':title, 'Location':location, 'Company':company, 'Salary':salary, 'Description':description}, ignore_index=True)\n",
    "    return df"
   ]
  },
  {
   "cell_type": "code",
   "execution_count": 25,
   "metadata": {},
   "outputs": [
    {
     "data": {
      "text/html": [
       "<div>\n",
       "<style scoped>\n",
       "    .dataframe tbody tr th:only-of-type {\n",
       "        vertical-align: middle;\n",
       "    }\n",
       "\n",
       "    .dataframe tbody tr th {\n",
       "        vertical-align: top;\n",
       "    }\n",
       "\n",
       "    .dataframe thead th {\n",
       "        text-align: right;\n",
       "    }\n",
       "</style>\n",
       "<table border=\"1\" class=\"dataframe\">\n",
       "  <thead>\n",
       "    <tr style=\"text-align: right;\">\n",
       "      <th></th>\n",
       "      <th>Title</th>\n",
       "      <th>Location</th>\n",
       "      <th>Company</th>\n",
       "      <th>Salary</th>\n",
       "      <th>Description</th>\n",
       "    </tr>\n",
       "  </thead>\n",
       "  <tbody>\n",
       "    <tr>\n",
       "      <th>0</th>\n",
       "      <td>Junior/Mid-Level Data Analyst or Scientist</td>\n",
       "      <td>Bristol</td>\n",
       "      <td>Heat Recruitment</td>\n",
       "      <td>\\n\\n£25,000 - £40,000 a year\\n</td>\n",
       "      <td>I’m very pleased to be working with a superb B...</td>\n",
       "    </tr>\n",
       "    <tr>\n",
       "      <th>1</th>\n",
       "      <td>Data Scientist</td>\n",
       "      <td>Bristol</td>\n",
       "      <td>Prolancer</td>\n",
       "      <td>\\n\\n£50,000 - £65,000 a year\\n</td>\n",
       "      <td>One of the world’s leading financial consultat...</td>\n",
       "    </tr>\n",
       "    <tr>\n",
       "      <th>2</th>\n",
       "      <td>Senior Data Scientist - Electrical Power Systems</td>\n",
       "      <td>Bristol</td>\n",
       "      <td>Toumetis</td>\n",
       "      <td>None</td>\n",
       "      <td>TouMetis Job Description\\n\\nSenior Data Scient...</td>\n",
       "    </tr>\n",
       "    <tr>\n",
       "      <th>3</th>\n",
       "      <td>Research Associate or Senior Research Associat...</td>\n",
       "      <td>Bristol BS8</td>\n",
       "      <td>University of Bristol</td>\n",
       "      <td>\\n\\n£33,797 - £38,017 a year\\n</td>\n",
       "      <td>We have an exciting opportunity for a talented...</td>\n",
       "    </tr>\n",
       "    <tr>\n",
       "      <th>4</th>\n",
       "      <td>Machine Learning Engineer</td>\n",
       "      <td>Bristol</td>\n",
       "      <td>Ultraleap Ltd.</td>\n",
       "      <td>None</td>\n",
       "      <td>We are looking for an experienced and motivate...</td>\n",
       "    </tr>\n",
       "    <tr>\n",
       "      <th>5</th>\n",
       "      <td>Senior Data Scientist - Bristol University Team</td>\n",
       "      <td>Bristol</td>\n",
       "      <td>LV=Careers</td>\n",
       "      <td>None</td>\n",
       "      <td>Location\\nBristol\\nRef\\nGI007058\\nClosing date...</td>\n",
       "    </tr>\n",
       "    <tr>\n",
       "      <th>6</th>\n",
       "      <td>Software Engineer (C++/Python), AI/Machine Lea...</td>\n",
       "      <td>Bristol</td>\n",
       "      <td>Linux Recruit</td>\n",
       "      <td>\\n\\n£45,000 - £70,000 a year\\n</td>\n",
       "      <td>Artificial Intelligence, or simply 'AI', is on...</td>\n",
       "    </tr>\n",
       "    <tr>\n",
       "      <th>7</th>\n",
       "      <td>Graduate Data Scientist</td>\n",
       "      <td>Newport</td>\n",
       "      <td>Concept Resourcing</td>\n",
       "      <td>\\n\\n£140 - £145 a day\\n</td>\n",
       "      <td>Are you a graduate in a numerical subject seek...</td>\n",
       "    </tr>\n",
       "    <tr>\n",
       "      <th>8</th>\n",
       "      <td>Machine Learning</td>\n",
       "      <td>Bristol</td>\n",
       "      <td>Cubiq Recruitment</td>\n",
       "      <td>\\n\\n£30,000 - £75,000 a year\\n</td>\n",
       "      <td>Description\\nMachine Learning Engineer (Reinfo...</td>\n",
       "    </tr>\n",
       "    <tr>\n",
       "      <th>9</th>\n",
       "      <td>Data Scientist</td>\n",
       "      <td>Newport</td>\n",
       "      <td>Concept Resourcing</td>\n",
       "      <td>\\n\\n£400 - £500 a day\\n</td>\n",
       "      <td>My client are a prestigious government organis...</td>\n",
       "    </tr>\n",
       "  </tbody>\n",
       "</table>\n",
       "</div>"
      ],
      "text/plain": [
       "                                               Title     Location  \\\n",
       "0         Junior/Mid-Level Data Analyst or Scientist      Bristol   \n",
       "1                                     Data Scientist      Bristol   \n",
       "2   Senior Data Scientist - Electrical Power Systems      Bristol   \n",
       "3  Research Associate or Senior Research Associat...  Bristol BS8   \n",
       "4                          Machine Learning Engineer      Bristol   \n",
       "5    Senior Data Scientist - Bristol University Team      Bristol   \n",
       "6  Software Engineer (C++/Python), AI/Machine Lea...      Bristol   \n",
       "7                            Graduate Data Scientist      Newport   \n",
       "8                                   Machine Learning      Bristol   \n",
       "9                                     Data Scientist      Newport   \n",
       "\n",
       "                 Company                          Salary  \\\n",
       "0       Heat Recruitment  \\n\\n£25,000 - £40,000 a year\\n   \n",
       "1              Prolancer  \\n\\n£50,000 - £65,000 a year\\n   \n",
       "2               Toumetis                            None   \n",
       "3  University of Bristol  \\n\\n£33,797 - £38,017 a year\\n   \n",
       "4         Ultraleap Ltd.                            None   \n",
       "5             LV=Careers                            None   \n",
       "6          Linux Recruit  \\n\\n£45,000 - £70,000 a year\\n   \n",
       "7     Concept Resourcing         \\n\\n£140 - £145 a day\\n   \n",
       "8      Cubiq Recruitment  \\n\\n£30,000 - £75,000 a year\\n   \n",
       "9     Concept Resourcing         \\n\\n£400 - £500 a day\\n   \n",
       "\n",
       "                                         Description  \n",
       "0  I’m very pleased to be working with a superb B...  \n",
       "1  One of the world’s leading financial consultat...  \n",
       "2  TouMetis Job Description\\n\\nSenior Data Scient...  \n",
       "3  We have an exciting opportunity for a talented...  \n",
       "4  We are looking for an experienced and motivate...  \n",
       "5  Location\\nBristol\\nRef\\nGI007058\\nClosing date...  \n",
       "6  Artificial Intelligence, or simply 'AI', is on...  \n",
       "7  Are you a graduate in a numerical subject seek...  \n",
       "8  Description\\nMachine Learning Engineer (Reinfo...  \n",
       "9  My client are a prestigious government organis...  "
      ]
     },
     "execution_count": 25,
     "metadata": {},
     "output_type": "execute_result"
    }
   ],
   "source": [
    "parse(url)"
   ]
  },
  {
   "cell_type": "markdown",
   "metadata": {},
   "source": [
    "### scale up\n",
    "\n",
    "Now that we have our function to extract the raw data, we need to expand our search method. We can do so by including a range of cities and adding a limit to the number of results. The method is outlined in the notebook liked to the top of this page. Here I will simply copy and edit to my particular case."
   ]
  },
  {
   "cell_type": "code",
   "execution_count": 41,
   "metadata": {},
   "outputs": [],
   "source": [
    "url_template = \"https://www.indeed.co.uk/jobs?q=data%20scientist&l={}&start={}\"\n",
    "max_results_per_city = 2000 # set to a high value for more results\n",
    "\n",
    "cities = set([\"Bristol\",\"London\",\"Leeds\",\"Manchester\",\"Edinburgh\",\"Birmingham\",\"Liverpool\",\"Cardiff\"]) # will use a smaller sample for now\n",
    "#cities = set([\"Bristol\"])\n",
    "\n",
    "i = 0\n",
    "results=[]\n",
    "df = pd.DataFrame(columns=[\"Title\",\"Location\",\"Company\",\"Salary\", \"Description\"])\n",
    "for city in cities:\n",
    "    for start in range(0,max_results_per_city, 10): # iterate in steps of 10\n",
    "        url = url_template.format(city, start)\n",
    "        df_temp = parse(url)\n",
    "        df = df.append(df_temp, ignore_index=True)\n",
    "\n",
    "        # save the result as csv file\n",
    "df.to_csv('Indeed_project_uncleaned.csv', encoding='utf-8')"
   ]
  },
  {
   "cell_type": "code",
   "execution_count": 42,
   "metadata": {},
   "outputs": [
    {
     "data": {
      "text/html": [
       "<div>\n",
       "<style scoped>\n",
       "    .dataframe tbody tr th:only-of-type {\n",
       "        vertical-align: middle;\n",
       "    }\n",
       "\n",
       "    .dataframe tbody tr th {\n",
       "        vertical-align: top;\n",
       "    }\n",
       "\n",
       "    .dataframe thead th {\n",
       "        text-align: right;\n",
       "    }\n",
       "</style>\n",
       "<table border=\"1\" class=\"dataframe\">\n",
       "  <thead>\n",
       "    <tr style=\"text-align: right;\">\n",
       "      <th></th>\n",
       "      <th>Title</th>\n",
       "      <th>Location</th>\n",
       "      <th>Company</th>\n",
       "      <th>Salary</th>\n",
       "      <th>Description</th>\n",
       "    </tr>\n",
       "  </thead>\n",
       "  <tbody>\n",
       "    <tr>\n",
       "      <th>0</th>\n",
       "      <td>Product Owner - up to £90k - Manchester -Pytho...</td>\n",
       "      <td>None</td>\n",
       "      <td>Circle Recruitment</td>\n",
       "      <td>\\n\\n£70,000 - £90,000 a year\\n</td>\n",
       "      <td>Product Owner-up to £90k-Manchester-Python, AI...</td>\n",
       "    </tr>\n",
       "    <tr>\n",
       "      <th>1</th>\n",
       "      <td>Data Scientist</td>\n",
       "      <td>Manchester</td>\n",
       "      <td>QBE</td>\n",
       "      <td>None</td>\n",
       "      <td>Data Scientist\\nManchester/Leeds\\nWho we are\\n...</td>\n",
       "    </tr>\n",
       "    <tr>\n",
       "      <th>2</th>\n",
       "      <td>Data Scientist</td>\n",
       "      <td>Wilmslow</td>\n",
       "      <td>Warner Bros. Entertainment Group</td>\n",
       "      <td>None</td>\n",
       "      <td>Opportunity Overview\\nPlaydemic, a division of...</td>\n",
       "    </tr>\n",
       "    <tr>\n",
       "      <th>3</th>\n",
       "      <td>Senior Data Scientist</td>\n",
       "      <td>Manchester</td>\n",
       "      <td>Booking.com</td>\n",
       "      <td>None</td>\n",
       "      <td>Job title: Senior Data Scientist\\n\\nLocation: ...</td>\n",
       "    </tr>\n",
       "    <tr>\n",
       "      <th>4</th>\n",
       "      <td>Ecommerce Data Scientist</td>\n",
       "      <td>Warrington</td>\n",
       "      <td>The Candidate</td>\n",
       "      <td>None</td>\n",
       "      <td>Ecommerce Data Scientist – Ecommerce – Warring...</td>\n",
       "    </tr>\n",
       "  </tbody>\n",
       "</table>\n",
       "</div>"
      ],
      "text/plain": [
       "                                               Title    Location  \\\n",
       "0  Product Owner - up to £90k - Manchester -Pytho...        None   \n",
       "1                                     Data Scientist  Manchester   \n",
       "2                                     Data Scientist    Wilmslow   \n",
       "3                              Senior Data Scientist  Manchester   \n",
       "4                           Ecommerce Data Scientist  Warrington   \n",
       "\n",
       "                            Company                          Salary  \\\n",
       "0                Circle Recruitment  \\n\\n£70,000 - £90,000 a year\\n   \n",
       "1                               QBE                            None   \n",
       "2  Warner Bros. Entertainment Group                            None   \n",
       "3                       Booking.com                            None   \n",
       "4                     The Candidate                            None   \n",
       "\n",
       "                                         Description  \n",
       "0  Product Owner-up to £90k-Manchester-Python, AI...  \n",
       "1  Data Scientist\\nManchester/Leeds\\nWho we are\\n...  \n",
       "2  Opportunity Overview\\nPlaydemic, a division of...  \n",
       "3  Job title: Senior Data Scientist\\n\\nLocation: ...  \n",
       "4  Ecommerce Data Scientist – Ecommerce – Warring...  "
      ]
     },
     "execution_count": 42,
     "metadata": {},
     "output_type": "execute_result"
    }
   ],
   "source": [
    "df.head()"
   ]
  },
  {
   "cell_type": "code",
   "execution_count": 43,
   "metadata": {},
   "outputs": [
    {
     "data": {
      "text/plain": [
       "(18044, 5)"
      ]
     },
     "execution_count": 43,
     "metadata": {},
     "output_type": "execute_result"
    }
   ],
   "source": [
    "df.shape"
   ]
  },
  {
   "cell_type": "code",
   "execution_count": null,
   "metadata": {},
   "outputs": [],
   "source": []
  }
 ],
 "metadata": {
  "kernelspec": {
   "display_name": "Python 3",
   "language": "python",
   "name": "python3"
  },
  "language_info": {
   "codemirror_mode": {
    "name": "ipython",
    "version": 3
   },
   "file_extension": ".py",
   "mimetype": "text/x-python",
   "name": "python",
   "nbconvert_exporter": "python",
   "pygments_lexer": "ipython3",
   "version": "3.7.7"
  }
 },
 "nbformat": 4,
 "nbformat_minor": 4
}
